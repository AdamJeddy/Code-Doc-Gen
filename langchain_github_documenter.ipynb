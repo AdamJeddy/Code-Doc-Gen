{
 "cells": [
  {
   "cell_type": "code",
   "execution_count": 13,
   "metadata": {},
   "outputs": [
    {
     "name": "stdout",
     "output_type": "stream",
     "text": [
      "Defaulting to user installation because normal site-packages is not writeable\n",
      "Requirement already satisfied: langchain-openai in /home/toaster/.local/lib/python3.10/site-packages (0.3.9)\n",
      "Requirement already satisfied: tiktoken<1,>=0.7 in /home/toaster/.local/lib/python3.10/site-packages (from langchain-openai) (0.9.0)\n",
      "Requirement already satisfied: langchain-core<1.0.0,>=0.3.45 in /home/toaster/.local/lib/python3.10/site-packages (from langchain-openai) (0.3.45)\n",
      "Requirement already satisfied: openai<2.0.0,>=1.66.3 in /home/toaster/.local/lib/python3.10/site-packages (from langchain-openai) (1.66.3)\n",
      "Requirement already satisfied: packaging<25,>=23.2 in /home/toaster/.local/lib/python3.10/site-packages (from langchain-core<1.0.0,>=0.3.45->langchain-openai) (23.2)\n",
      "Requirement already satisfied: typing-extensions>=4.7 in /home/toaster/.local/lib/python3.10/site-packages (from langchain-core<1.0.0,>=0.3.45->langchain-openai) (4.12.2)\n",
      "Requirement already satisfied: tenacity!=8.4.0,<10.0.0,>=8.1.0 in /home/toaster/.local/lib/python3.10/site-packages (from langchain-core<1.0.0,>=0.3.45->langchain-openai) (9.0.0)\n",
      "Requirement already satisfied: langsmith<0.4,>=0.1.125 in /home/toaster/.local/lib/python3.10/site-packages (from langchain-core<1.0.0,>=0.3.45->langchain-openai) (0.3.15)\n",
      "Requirement already satisfied: jsonpatch<2.0,>=1.33 in /home/toaster/.local/lib/python3.10/site-packages (from langchain-core<1.0.0,>=0.3.45->langchain-openai) (1.33)\n",
      "Requirement already satisfied: pydantic<3.0.0,>=2.5.2 in /home/toaster/.local/lib/python3.10/site-packages (from langchain-core<1.0.0,>=0.3.45->langchain-openai) (2.10.6)\n",
      "Requirement already satisfied: PyYAML>=5.3 in /home/toaster/.local/lib/python3.10/site-packages (from langchain-core<1.0.0,>=0.3.45->langchain-openai) (6.0.2)\n",
      "Requirement already satisfied: anyio<5,>=3.5.0 in /home/toaster/.local/lib/python3.10/site-packages (from openai<2.0.0,>=1.66.3->langchain-openai) (4.9.0)\n",
      "Requirement already satisfied: sniffio in /home/toaster/.local/lib/python3.10/site-packages (from openai<2.0.0,>=1.66.3->langchain-openai) (1.3.1)\n",
      "Requirement already satisfied: distro<2,>=1.7.0 in /usr/lib/python3/dist-packages (from openai<2.0.0,>=1.66.3->langchain-openai) (1.7.0)\n",
      "Requirement already satisfied: httpx<1,>=0.23.0 in /home/toaster/.local/lib/python3.10/site-packages (from openai<2.0.0,>=1.66.3->langchain-openai) (0.28.1)\n",
      "Requirement already satisfied: tqdm>4 in /home/toaster/.local/lib/python3.10/site-packages (from openai<2.0.0,>=1.66.3->langchain-openai) (4.66.1)\n",
      "Requirement already satisfied: jiter<1,>=0.4.0 in /home/toaster/.local/lib/python3.10/site-packages (from openai<2.0.0,>=1.66.3->langchain-openai) (0.9.0)\n",
      "Requirement already satisfied: regex>=2022.1.18 in /home/toaster/.local/lib/python3.10/site-packages (from tiktoken<1,>=0.7->langchain-openai) (2023.12.25)\n",
      "Requirement already satisfied: requests>=2.26.0 in /home/toaster/.local/lib/python3.10/site-packages (from tiktoken<1,>=0.7->langchain-openai) (2.32.3)\n",
      "Requirement already satisfied: exceptiongroup>=1.0.2 in /home/toaster/.local/lib/python3.10/site-packages (from anyio<5,>=3.5.0->openai<2.0.0,>=1.66.3->langchain-openai) (1.2.0)\n",
      "Requirement already satisfied: idna>=2.8 in /home/toaster/.local/lib/python3.10/site-packages (from anyio<5,>=3.5.0->openai<2.0.0,>=1.66.3->langchain-openai) (3.10)\n",
      "Requirement already satisfied: httpcore==1.* in /home/toaster/.local/lib/python3.10/site-packages (from httpx<1,>=0.23.0->openai<2.0.0,>=1.66.3->langchain-openai) (1.0.7)\n",
      "Requirement already satisfied: certifi in /home/toaster/.local/lib/python3.10/site-packages (from httpx<1,>=0.23.0->openai<2.0.0,>=1.66.3->langchain-openai) (2024.8.30)\n",
      "Requirement already satisfied: h11<0.15,>=0.13 in /home/toaster/.local/lib/python3.10/site-packages (from httpcore==1.*->httpx<1,>=0.23.0->openai<2.0.0,>=1.66.3->langchain-openai) (0.14.0)\n",
      "Requirement already satisfied: jsonpointer>=1.9 in /home/toaster/.local/lib/python3.10/site-packages (from jsonpatch<2.0,>=1.33->langchain-core<1.0.0,>=0.3.45->langchain-openai) (3.0.0)\n",
      "Requirement already satisfied: zstandard<0.24.0,>=0.23.0 in /home/toaster/.local/lib/python3.10/site-packages (from langsmith<0.4,>=0.1.125->langchain-core<1.0.0,>=0.3.45->langchain-openai) (0.23.0)\n",
      "Requirement already satisfied: orjson<4.0.0,>=3.9.14 in /home/toaster/.local/lib/python3.10/site-packages (from langsmith<0.4,>=0.1.125->langchain-core<1.0.0,>=0.3.45->langchain-openai) (3.10.15)\n",
      "Requirement already satisfied: requests-toolbelt<2.0.0,>=1.0.0 in /home/toaster/.local/lib/python3.10/site-packages (from langsmith<0.4,>=0.1.125->langchain-core<1.0.0,>=0.3.45->langchain-openai) (1.0.0)\n",
      "Requirement already satisfied: pydantic-core==2.27.2 in /home/toaster/.local/lib/python3.10/site-packages (from pydantic<3.0.0,>=2.5.2->langchain-core<1.0.0,>=0.3.45->langchain-openai) (2.27.2)\n",
      "Requirement already satisfied: annotated-types>=0.6.0 in /home/toaster/.local/lib/python3.10/site-packages (from pydantic<3.0.0,>=2.5.2->langchain-core<1.0.0,>=0.3.45->langchain-openai) (0.7.0)\n",
      "Requirement already satisfied: charset-normalizer<4,>=2 in /home/toaster/.local/lib/python3.10/site-packages (from requests>=2.26.0->tiktoken<1,>=0.7->langchain-openai) (3.4.0)\n",
      "Requirement already satisfied: urllib3<3,>=1.21.1 in /home/toaster/.local/lib/python3.10/site-packages (from requests>=2.26.0->tiktoken<1,>=0.7->langchain-openai) (2.2.3)\n",
      "Note: you may need to restart the kernel to use updated packages.\n"
     ]
    }
   ],
   "source": [
    "%pip install -U langchain-openai"
   ]
  },
  {
   "cell_type": "markdown",
   "metadata": {},
   "source": [
    "## Setting up LLM"
   ]
  },
  {
   "cell_type": "code",
   "execution_count": 44,
   "metadata": {},
   "outputs": [],
   "source": [
    "from langchain_openai import ChatOpenAI\n",
    "from dotenv import load_dotenv\n",
    "import os\n",
    "\n",
    "# Load environment variables from .env file\n",
    "load_dotenv()\n",
    "\n",
    "# Create a GPT-4o model\n",
    "llm = ChatOpenAI(model='gpt-4o',temperature=0,api_key=os.getenv(\"OPENAI_API_KEY\"))"
   ]
  },
  {
   "cell_type": "markdown",
   "metadata": {},
   "source": [
    "## Tools for LLM"
   ]
  },
  {
   "cell_type": "code",
   "execution_count": 48,
   "metadata": {},
   "outputs": [],
   "source": [
    "import subprocess\n",
    "from datetime import datetime\n",
    "from langchain.tools import tool\n",
    "\n",
    "@tool\n",
    "def github_documentation_commit(commit_message=\"\"):\n",
    "    \"\"\" Commits the current changes to the 'documentation' branch of the Github repository \"\"\"\n",
    "    branch_name = \"documentation\"\n",
    "    commit_message_main = f\"{commit_message} - updated {datetime.now().strftime('%d-%m-%Y %H:%M:%S')}\"\n",
    "    \n",
    "    # Switchs to the \"documentation\" branch (or Creates it if it doesn't exist)\n",
    "    subprocess.run([\"git\", \"checkout\", \"-B\", branch_name])\n",
    "    \n",
    "    # Add all changes\n",
    "    subprocess.run([\"git\", \"add\", \".\"])\n",
    "    \n",
    "    # Commit with the message\n",
    "    subprocess.run([\"git\", \"commit\", \"-m\", commit_message_main])\n",
    "    \n",
    "    # Push to the remote repository\n",
    "    subprocess.run([\"git\", \"push\", \"-u\", \"origin\", branch_name])\n",
    "    \n",
    "    return \"Committed to Github on branch 'documentation'\"\n",
    "\n",
    "@tool\n",
    "def create_file_tool(file_contents):\n",
    "    \"\"\"This function creates or updates a markdown file with the contents provided as input.\"\"\"\n",
    "    \n",
    "    # Remove any Markdown formatting if present\n",
    "    if file_contents.startswith(\"```\") and file_contents.endswith(\"```\"):\n",
    "        file_contents = file_contents.strip(\"```\").strip()\n",
    "    \n",
    "    with open(\"documentation.md\", \"w\") as f:\n",
    "        f.write(file_contents)\n",
    "    \n",
    "    return \"File updated\"\n",
    "\n",
    "\n",
    "tools = [github_documentation_commit, create_file_tool]"
   ]
  },
  {
   "cell_type": "markdown",
   "metadata": {},
   "source": [
    "## Simple Agent to use the tools"
   ]
  },
  {
   "cell_type": "code",
   "execution_count": 49,
   "metadata": {},
   "outputs": [],
   "source": [
    "from langchain.agents import initialize_agent\n",
    "from langchain.agents import AgentType\n",
    "\n",
    "agent_executor = initialize_agent(\n",
    "    tools, llm, agent=AgentType.ZERO_SHOT_REACT_DESCRIPTION, verbose=True\n",
    ")"
   ]
  },
  {
   "cell_type": "code",
   "execution_count": null,
   "metadata": {},
   "outputs": [
    {
     "name": "stdout",
     "output_type": "stream",
     "text": [
      "\n",
      "\n",
      "\u001b[1m> Entering new AgentExecutor chain...\u001b[0m\n"
     ]
    }
   ],
   "source": [
    "agent_executor.invoke(\n",
    "    {\n",
    "        \"input\": \"Write a basic code documentation in markdown format. Output ONLY THE MARKDOWN without wrapping it in ```. Commit changes to 'documentation' branch with an appropriate commit message.\"\n",
    "    }\n",
    ")"
   ]
  },
  {
   "cell_type": "code",
   "execution_count": null,
   "metadata": {},
   "outputs": [],
   "source": []
  }
 ],
 "metadata": {
  "kernelspec": {
   "display_name": "Python 3",
   "language": "python",
   "name": "python3"
  },
  "language_info": {
   "codemirror_mode": {
    "name": "ipython",
    "version": 3
   },
   "file_extension": ".py",
   "mimetype": "text/x-python",
   "name": "python",
   "nbconvert_exporter": "python",
   "pygments_lexer": "ipython3",
   "version": "3.10.12"
  }
 },
 "nbformat": 4,
 "nbformat_minor": 2
}
