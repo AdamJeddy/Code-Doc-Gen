{
 "cells": [
  {
   "cell_type": "markdown",
   "metadata": {},
   "source": [
    "# THIS IS JUST A NOTEBOOK TO RnD SECTIONS of the CODE \n",
    "# and to test whats working and whats not"
   ]
  },
  {
   "cell_type": "code",
   "execution_count": null,
   "metadata": {},
   "outputs": [],
   "source": [
    "%pip install -U langchain-openai"
   ]
  },
  {
   "cell_type": "code",
   "execution_count": null,
   "metadata": {},
   "outputs": [],
   "source": [
    "from langchain_openai import ChatOpenAI\n",
    "from dotenv import load_dotenv\n",
    "import os\n",
    "import logging\n",
    "import subprocess\n",
    "from datetime import datetime\n",
    "from langchain.tools import tool\n",
    "from langchain.tools import StructuredTool\n",
    "from langchain.agents import initialize_agent\n",
    "from langchain.agents import AgentType"
   ]
  },
  {
   "cell_type": "markdown",
   "metadata": {},
   "source": [
    "## Setting up LLM"
   ]
  },
  {
   "cell_type": "code",
   "execution_count": null,
   "metadata": {},
   "outputs": [],
   "source": [
    "# Load environment variables from .env file\n",
    "load_dotenv()\n",
    "\n",
    "# Configure some basic levl of logging\n",
    "logging.basicConfig(level=logging.INFO, format='%(asctime)s - %(levelname)s - %(message)s')\n",
    "\n",
    "# Creating a GPT-4o model\n",
    "llm = ChatOpenAI(model='gpt-4o', temperature=0, api_key=os.getenv(\"OPENAI_API_KEY\"))"
   ]
  },
  {
   "cell_type": "markdown",
   "metadata": {},
   "source": [
    "## Git Helper Functions"
   ]
  },
  {
   "cell_type": "code",
   "execution_count": null,
   "metadata": {},
   "outputs": [],
   "source": [
    "def get_last_documented_commit(file_path=\"documentation.md\"):\n",
    "    \"\"\"Extracts the last documented commit hash from the documentation file.\"\"\"\n",
    "    if not os.path.isfile(file_path):\n",
    "        return None\n",
    "    with open(file_path, \"r\") as f:\n",
    "        for line in f:\n",
    "            if line.startswith(\"Last Documented Commit:\"):\n",
    "                # Expecting a line like: \"Last Documented Commit: <commit_hash>\"\n",
    "                return line.split(\":\", 1)[1].strip()\n",
    "    return None\n",
    "\n",
    "def get_new_commits(since_commit):\n",
    "    \"\"\"Returns a list of commit messages and hashes since the provided commit.\"\"\"\n",
    "    if since_commit:\n",
    "        cmd = [\"git\", \"log\", f\"{since_commit}..HEAD\", \"--oneline\"]\n",
    "    else:\n",
    "        # If no last commit found, return the full log.\n",
    "        cmd = [\"git\", \"log\", \"--oneline\"]\n",
    "    try:\n",
    "        result = subprocess.run(cmd, check=True, capture_output=True, text=True)\n",
    "        commits = result.stdout.strip().split(\"\\n\")\n",
    "        return commits if commits != [''] else []\n",
    "    except subprocess.CalledProcessError as e:\n",
    "        logging.error(\"Error retrieving git log: \" + e.stderr)\n",
    "        return []\n",
    "\n",
    "def get_diff_since_commit(since_commit):\n",
    "    \"\"\"Returns the diff of changes since the provided commit.\"\"\"\n",
    "    if not since_commit:\n",
    "        # No commit provided, diff from the beginning (or current working tree)\n",
    "        since_commit = \"\"\n",
    "    cmd = [\"git\", \"diff\", f\"{since_commit}..HEAD\"]\n",
    "    try:\n",
    "        result = subprocess.run(cmd, check=True, capture_output=True, text=True)\n",
    "        return result.stdout.strip()\n",
    "    except subprocess.CalledProcessError as e:\n",
    "        logging.error(\"Error retrieving git diff: \" + e.stderr)\n",
    "        return \"\"\n",
    "\n",
    "def get_repo_overview():\n",
    "    \"\"\"\n",
    "    Reads the repository structure and provides an overview of up to 10 top-level items.\n",
    "    For each file, if it is a text file, it includes a short snippet of its content.\n",
    "    Directories are indicated accordingly.\n",
    "    \"\"\"\n",
    "    overview = \"Repository Overview:\\n\"\n",
    "    try:\n",
    "        # List top-level files and directories; limit to 10 items\n",
    "        result = subprocess.run([\"ls\", \"-1\"], check=True, capture_output=True, text=True)\n",
    "        items = result.stdout.strip().split(\"\\n\")[:10]\n",
    "        overview += \"Top-level items:\\n\"\n",
    "        for item in items:\n",
    "            if os.path.isdir(item):\n",
    "                overview += f\"\\n- {item}/ (directory)\"\n",
    "            else:\n",
    "                # Attempt to read the first 200 characters of the file\n",
    "                try:\n",
    "                    with open(item, \"r\", encoding=\"utf-8\") as f:\n",
    "                        content = f.read(200)\n",
    "                        snippet = content.strip().replace(\"\\n\", \" \")[:100]\n",
    "                        overview += f\"\\n- {item}: {snippet}...\"\n",
    "                except Exception as e:\n",
    "                    overview += f\"\\n- {item}: (binary or unreadable file)\"\n",
    "    except subprocess.CalledProcessError as e:\n",
    "        overview += \"Error reading repository structure.\"\n",
    "    return overview\n"
   ]
  },
  {
   "cell_type": "markdown",
   "metadata": {},
   "source": [
    "## Tools for LLM"
   ]
  },
  {
   "cell_type": "code",
   "execution_count": null,
   "metadata": {},
   "outputs": [],
   "source": [
    "import subprocess\n",
    "from datetime import datetime\n",
    "from langchain.tools import tool\n",
    "from langchain.tools import StructuredTool\n",
    "\n",
    "@tool\n",
    "def github_documentation_commit(commit_message=\"\"):\n",
    "    \"\"\"Commits the current changes to the 'documentation' branch of the Github repository.\"\"\"\n",
    "    branch_name = \"documentation\"\n",
    "    commit_message_main = f\"{commit_message} - {datetime.now().strftime('%d-%m-%y %H:%M:%S')}\"\n",
    "    \n",
    "    try:\n",
    "        # Switch to the \"documentation\" branch (or create it if it doesn't exist)\n",
    "        result = subprocess.run([\"git\", \"checkout\", \"-B\", branch_name], check=True, capture_output=True, text=True)\n",
    "        logging.info(result.stdout)\n",
    "        \n",
    "        # Add only .md files\n",
    "        result = subprocess.run([\"git\", \"add\", \"*.md\"], check=True, capture_output=True, text=True)\n",
    "        logging.info(result.stdout)\n",
    "        \n",
    "        # Commit with the message\n",
    "        result = subprocess.run([\"git\", \"commit\", \"-m\", commit_message_main], check=True, capture_output=True, text=True)\n",
    "        logging.info(result.stdout)\n",
    "        \n",
    "        # Push to the remote repository\n",
    "        result = subprocess.run([\"git\", \"push\", \"-u\", \"origin\", branch_name], check=True, capture_output=True, text=True)\n",
    "        logging.info(result.stdout)\n",
    "    except subprocess.CalledProcessError as e:\n",
    "        logging.error(\"An error occurred during Git operations: \" + e.stderr)\n",
    "        return \"Failed to commit documentation\"\n",
    "    \n",
    "    return \"Committed to Github on branch 'documentation'\"\n",
    "\n",
    "def create_file_tool(file_contents: str, file_path: str) -> str:\n",
    "    \"\"\"\n",
    "    Creates or updates a markdown file with the provided contents.\n",
    "    It appends a marker line with the latest commit hash for reference.\n",
    "    \"\"\"\n",
    "    # Remove any Markdown formatting if present\n",
    "    if file_contents.startswith(\"```\") and file_contents.endswith(\"```\"):\n",
    "        file_contents = file_contents.strip(\"```\").strip()\n",
    "    \n",
    "    # Obtain the current HEAD commit hash\n",
    "    try:\n",
    "        head_commit = subprocess.run([\"git\", \"rev-parse\", \"HEAD\"], check=True, capture_output=True, text=True).stdout.strip()\n",
    "    except subprocess.CalledProcessError as e:\n",
    "        logging.error(\"Error retrieving HEAD commit: \" + e.stderr)\n",
    "        head_commit = \"unknown\"\n",
    "    \n",
    "    # Append/update the marker for the last documented commit\n",
    "    marker_line = f\"\\n\\nLast Documented Commit: {head_commit}\"\n",
    "    # Optionally, remove any old marker before appending\n",
    "    if os.path.isfile(file_path):\n",
    "        with open(file_path, \"r\") as f:\n",
    "            content = f.read()\n",
    "        # Remove previous marker if exists\n",
    "        content = \"\\n\".join([line for line in content.split(\"\\n\") if not line.startswith(\"Last Documented Commit:\")])\n",
    "    else:\n",
    "        content = \"\"\n",
    "    \n",
    "    new_content = file_contents + marker_line\n",
    "    with open(file_path, \"w\") as f:\n",
    "        f.write(new_content)\n",
    "    \n",
    "    return \"File updated\"\n",
    "\n",
    "@tool\n",
    "def check_document_file_exists() -> str:\n",
    "    \"\"\"Checks if the repository has a file named 'documentation.md'.\"\"\"\n",
    "    if os.path.isfile(\"documentation.md\"):\n",
    "        return \"File 'documentation.md' exists\"\n",
    "    else:\n",
    "        return \"File 'documentation.md' does not exist\"\n",
    "\n",
    "# Convert the create_file_tool into a StructuredTool\n",
    "create_file_tool = StructuredTool.from_function(create_file_tool)\n",
    "tools = [github_documentation_commit, create_file_tool, check_document_file_exists]"
   ]
  },
  {
   "cell_type": "markdown",
   "metadata": {},
   "source": [
    "## Simple Agent to use the tools"
   ]
  },
  {
   "cell_type": "code",
   "execution_count": null,
   "metadata": {},
   "outputs": [],
   "source": [
    "# Check for last documented commit\n",
    "last_commit = get_last_documented_commit(\"documentation.md\")\n",
    "\n",
    "# Build the dynamic prompt based on whether a documentation file already exists\n",
    "if last_commit is None:\n",
    "    # No documentation exists, so we generate a fresh overview\n",
    "    repo_overview = get_repo_overview()\n",
    "    prompt_template = f\"\"\"\n",
    "    This repository does not yet have a documentation file. Based on the following repository overview, generate comprehensive documentation in markdown format.\n",
    "    \n",
    "    {repo_overview}\n",
    "    \n",
    "    The documentation should include sections such as Overview, File Structure, Features & Important Functions. \n",
    "    Ensure that the final line includes a marker with the latest commit hash in the format:\n",
    "    Last Documented Commit: <commit_hash>\n",
    "    \n",
    "    The output should be named as documentation.md and should not be wrapped in markdown fences.\n",
    "    \"\"\"\n",
    "else:\n",
    "    # Existing documentation found; update it based on recent changes.\n",
    "    new_commits = get_new_commits(last_commit)\n",
    "    diff_details = get_diff_since_commit(last_commit)\n",
    "    \n",
    "    prompt_template = f\"\"\"\n",
    "    The current documentation was last updated at commit {last_commit}.\n",
    "    Since then, the following commits have been made:\n",
    "    \n",
    "    New Commits:\n",
    "    {chr(10).join(new_commits)}\n",
    "    \n",
    "    Diff Summary:\n",
    "    {diff_details[:1000]}  <!-- This summary is truncated to avoid overwhelming the prompt -->\n",
    "    \n",
    "    Based on these recent changes, update the existing documentation in markdown format. \n",
    "    The final line of the output must include an updated marker with the latest commit hash in the following format:\n",
    "    Last Documented Commit: <commit_hash>\n",
    "    \n",
    "    The output should be named as documentation.md and should not be wrapped in markdown fences.\n",
    "    \"\"\"\n"
   ]
  },
  {
   "cell_type": "code",
   "execution_count": null,
   "metadata": {},
   "outputs": [
    {
     "name": "stdout",
     "output_type": "stream",
     "text": [
      "\n",
      "\n",
      "\u001b[1m> Entering new AgentExecutor chain...\u001b[0m\n",
      "\u001b[32;1m\u001b[1;3mAction:\n",
      "```\n",
      "{\n",
      "  \"action\": \"create_file_tool\",\n",
      "  \"action_input\": {\n",
      "    \"file_contents\": \"# Project Documentation\\n\\n## Overview\\nThis project is designed to demonstrate basic functionality and serve as a starting point for further development.\\n\\n## Installation\\n1. Clone the repository.\\n2. Navigate to the project directory.\\n3. Run `npm install` to install dependencies.\\n\\n## Usage\\n- Run `npm start` to start the application.\\n- Access the application at `http://localhost:3000`.\\n\\n## Contributing\\n1. Fork the repository.\\n2. Create a new branch for your feature (`git checkout -b feature-name`).\\n3. Commit your changes (`git commit -m 'Add new feature'`).\\n4. Push to the branch (`git push origin feature-name`).\\n5. Open a pull request.\\n\\n## License\\nThis project is licensed under the MIT License.\\n\\n## Contact\\nFor any questions, please contact [email@example.com].\",\n",
      "    \"file_path\": \"documentation.md\"\n",
      "  }\n",
      "}\n",
      "```\u001b[0m\n",
      "Observation: \u001b[33;1m\u001b[1;3mFile updated\u001b[0m\n",
      "Thought:\u001b[32;1m\u001b[1;3mAction:\n",
      "```\n",
      "{\n",
      "  \"action\": \"github_documentation_commit\",\n",
      "  \"action_input\": {\n",
      "    \"commit_message\": \"Add basic project documentation\"\n",
      "  }\n",
      "}\n",
      "```\u001b[0mM\tdocumentation.md\n",
      "M\tlangchain_github_documenter.ipynb\n",
      "Your branch is up to date with 'origin/documentation'.\n",
      "[documentation 775c662] Add basic project documentation - 23-03-25 15:01:58\n",
      " 2 files changed, 192 insertions(+), 220 deletions(-)\n",
      " rewrite documentation.md (85%)\n",
      " rewrite langchain_github_documenter.ipynb (63%)\n"
     ]
    },
    {
     "name": "stderr",
     "output_type": "stream",
     "text": [
      "Reset branch 'documentation'\n",
      "To https://github.com/AdamJeddy/Code-Doc-Gen.git\n",
      "   6510f65..775c662  documentation -> documentation\n"
     ]
    },
    {
     "name": "stdout",
     "output_type": "stream",
     "text": [
      "Branch 'documentation' set up to track remote branch 'documentation' from 'origin'.\n",
      "\n",
      "Observation: \u001b[36;1m\u001b[1;3mCommitted to Github on branch 'documentation'\u001b[0m\n",
      "Thought:\u001b[32;1m\u001b[1;3mAction:\n",
      "```\n",
      "{\n",
      "  \"action\": \"Final Answer\",\n",
      "  \"action_input\": \"# Project Documentation\\n\\n## Overview\\nThis project is designed to demonstrate basic functionality and serve as a starting point for further development.\\n\\n## Installation\\n1. Clone the repository.\\n2. Navigate to the project directory.\\n3. Run `npm install` to install dependencies.\\n\\n## Usage\\n- Run `npm start` to start the application.\\n- Access the application at `http://localhost:3000`.\\n\\n## Contributing\\n1. Fork the repository.\\n2. Create a new branch for your feature (`git checkout -b feature-name`).\\n3. Commit your changes (`git commit -m 'Add new feature'`).\\n4. Push to the branch (`git push origin feature-name`).\\n5. Open a pull request.\\n\\n## License\\nThis project is licensed under the MIT License.\\n\\n## Contact\\nFor any questions, please contact [email@example.com].\"\n",
      "}\n",
      "```\u001b[0m\n",
      "\n",
      "\u001b[1m> Finished chain.\u001b[0m\n"
     ]
    },
    {
     "data": {
      "text/plain": [
       "{'input': 'Write a basic code documentation in markdown format with the file name as documentation.md. Output ONLY THE MARKDOWN without wrapping it in ```. Commit changes to branch called documentation with an appropriate commit message.',\n",
       " 'output': \"# Project Documentation\\n\\n## Overview\\nThis project is designed to demonstrate basic functionality and serve as a starting point for further development.\\n\\n## Installation\\n1. Clone the repository.\\n2. Navigate to the project directory.\\n3. Run `npm install` to install dependencies.\\n\\n## Usage\\n- Run `npm start` to start the application.\\n- Access the application at `http://localhost:3000`.\\n\\n## Contributing\\n1. Fork the repository.\\n2. Create a new branch for your feature (`git checkout -b feature-name`).\\n3. Commit your changes (`git commit -m 'Add new feature'`).\\n4. Push to the branch (`git push origin feature-name`).\\n5. Open a pull request.\\n\\n## License\\nThis project is licensed under the MIT License.\\n\\n## Contact\\nFor any questions, please contact [email@example.com].\"}"
      ]
     },
     "execution_count": 57,
     "metadata": {},
     "output_type": "execute_result"
    }
   ],
   "source": [
    "\n",
    "# Initialize and invoke the agent with the dynamic prompt\n",
    "agent_executor = initialize_agent(\n",
    "    tools, llm, agent=AgentType.STRUCTURED_CHAT_ZERO_SHOT_REACT_DESCRIPTION, verbose=True\n",
    ")\n",
    "\n",
    "# Invoke the agent with the dynamic prompt\n",
    "agent_executor.invoke({\"input\": prompt_template})"
   ]
  },
  {
   "cell_type": "code",
   "execution_count": null,
   "metadata": {},
   "outputs": [],
   "source": []
  }
 ],
 "metadata": {
  "kernelspec": {
   "display_name": "Python 3",
   "language": "python",
   "name": "python3"
  },
  "language_info": {
   "codemirror_mode": {
    "name": "ipython",
    "version": 3
   },
   "file_extension": ".py",
   "mimetype": "text/x-python",
   "name": "python",
   "nbconvert_exporter": "python",
   "pygments_lexer": "ipython3",
   "version": "3.10.12"
  }
 },
 "nbformat": 4,
 "nbformat_minor": 2
}
