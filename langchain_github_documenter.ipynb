{
 "cells": [
  {
   "cell_type": "code",
   "execution_count": null,
   "metadata": {},
   "outputs": [],
   "source": [
    "%pip install -U langchain-openai"
   ]
  },
  {
   "cell_type": "markdown",
   "metadata": {},
   "source": [
    "## Setting up LLM"
   ]
  },
  {
   "cell_type": "code",
   "execution_count": 44,
   "metadata": {},
   "outputs": [],
   "source": [
    "from langchain_openai import ChatOpenAI\n",
    "from dotenv import load_dotenv\n",
    "import os\n",
    "\n",
    "# Load environment variables from .env file\n",
    "load_dotenv()\n",
    "\n",
    "# Create a GPT-4o model\n",
    "llm = ChatOpenAI(model='gpt-4o',temperature=0,api_key=os.getenv(\"OPENAI_API_KEY\"))"
   ]
  },
  {
   "cell_type": "markdown",
   "metadata": {},
   "source": [
    "## Tools for LLM"
   ]
  },
  {
   "cell_type": "code",
   "execution_count": null,
   "metadata": {},
   "outputs": [],
   "source": [
    "import subprocess\n",
    "from datetime import datetime\n",
    "from langchain.tools import tool\n",
    "from langchain.tools import StructuredTool\n",
    "\n",
    "@tool\n",
    "def github_documentation_commit(commit_message=\"\"):\n",
    "    \"\"\" Commits the current changes to the 'documentation' branch of the Github repository \"\"\"\n",
    "    branch_name = \"documentation\"\n",
    "    commit_message_main = f\"{commit_message} - {datetime.now().strftime('%d-%m-%y %H:%M:%S')}\"\n",
    "    \n",
    "    # Switchs to the \"documentation\" branch (or Creates it if it doesn't exist)\n",
    "    subprocess.run([\"git\", \"checkout\", \"-B\", branch_name])\n",
    "    \n",
    "    # Add only .md files\n",
    "    subprocess.run([\"git\", \"add\", \"*.md\"])\n",
    "    \n",
    "    # Commit with the message\n",
    "    subprocess.run([\"git\", \"commit\", \"-m\", commit_message_main])\n",
    "    \n",
    "    # Push to the remote repository\n",
    "    subprocess.run([\"git\", \"push\", \"-u\", \"origin\", branch_name])\n",
    "    \n",
    "    return \"Committed to Github on branch 'documentation'\"\n",
    "\n",
    "def create_file_tool(file_contents: str, file_path: str) -> str:\n",
    "    \"\"\"\n",
    "    Function that creates/updates a markdown file with the contents provided as input \n",
    "    and file path provided as inputs\n",
    "    \"\"\"\n",
    "    \n",
    "    # Remove any Markdown formatting if present\n",
    "    if file_contents.startswith(\"```\") and file_contents.endswith(\"```\"):\n",
    "        file_contents = file_contents.strip(\"```\").strip()\n",
    "    \n",
    "    with open(file_path, \"w\") as f:\n",
    "        f.write(file_contents)\n",
    "    \n",
    "    return \"File updated\"\n",
    "\n",
    "@tool\n",
    "def check_document_file_exists() -> str:\n",
    "    \"\"\"Checks if the repository has a file named 'document.md'\"\"\"\n",
    "    if os.path.isfile(\"document.md\"):\n",
    "        return \"File 'document.md' exists\"\n",
    "    else:\n",
    "        return \"File 'document.md' does not exist\"\n",
    "\n",
    "\n",
    "create_file_tool = StructuredTool.from_function(create_file_tool)\n",
    "tools = [github_documentation_commit, create_file_tool, check_document_file_exists]"
   ]
  },
  {
   "cell_type": "markdown",
   "metadata": {},
   "source": [
    "## Simple Agent to use the tools"
   ]
  },
  {
   "cell_type": "code",
   "execution_count": 55,
   "metadata": {},
   "outputs": [],
   "source": [
    "from langchain.agents import initialize_agent\n",
    "from langchain.agents import AgentType\n",
    "\n",
    "agent_executor = initialize_agent(\n",
    "    tools, llm, agent=AgentType.STRUCTURED_CHAT_ZERO_SHOT_REACT_DESCRIPTION, verbose=True\n",
    ")"
   ]
  },
  {
   "cell_type": "code",
   "execution_count": 57,
   "metadata": {},
   "outputs": [
    {
     "name": "stdout",
     "output_type": "stream",
     "text": [
      "\n",
      "\n",
      "\u001b[1m> Entering new AgentExecutor chain...\u001b[0m\n",
      "\u001b[32;1m\u001b[1;3mAction:\n",
      "```\n",
      "{\n",
      "  \"action\": \"create_file_tool\",\n",
      "  \"action_input\": {\n",
      "    \"file_contents\": \"# Project Documentation\\n\\n## Overview\\nThis project is designed to demonstrate basic functionality and serve as a starting point for further development.\\n\\n## Installation\\n1. Clone the repository.\\n2. Navigate to the project directory.\\n3. Run `npm install` to install dependencies.\\n\\n## Usage\\n- Run `npm start` to start the application.\\n- Access the application at `http://localhost:3000`.\\n\\n## Contributing\\n1. Fork the repository.\\n2. Create a new branch for your feature (`git checkout -b feature-name`).\\n3. Commit your changes (`git commit -m 'Add new feature'`).\\n4. Push to the branch (`git push origin feature-name`).\\n5. Open a pull request.\\n\\n## License\\nThis project is licensed under the MIT License.\\n\\n## Contact\\nFor any questions, please contact [email@example.com].\",\n",
      "    \"file_path\": \"documentation.md\"\n",
      "  }\n",
      "}\n",
      "```\u001b[0m\n",
      "Observation: \u001b[33;1m\u001b[1;3mFile updated\u001b[0m\n",
      "Thought:\u001b[32;1m\u001b[1;3mAction:\n",
      "```\n",
      "{\n",
      "  \"action\": \"github_documentation_commit\",\n",
      "  \"action_input\": {\n",
      "    \"commit_message\": \"Add basic project documentation\"\n",
      "  }\n",
      "}\n",
      "```\u001b[0mM\tdocumentation.md\n",
      "M\tlangchain_github_documenter.ipynb\n",
      "Your branch is up to date with 'origin/documentation'.\n",
      "[documentation 775c662] Add basic project documentation - 23-03-25 15:01:58\n",
      " 2 files changed, 192 insertions(+), 220 deletions(-)\n",
      " rewrite documentation.md (85%)\n",
      " rewrite langchain_github_documenter.ipynb (63%)\n"
     ]
    },
    {
     "name": "stderr",
     "output_type": "stream",
     "text": [
      "Reset branch 'documentation'\n",
      "To https://github.com/AdamJeddy/Code-Doc-Gen.git\n",
      "   6510f65..775c662  documentation -> documentation\n"
     ]
    },
    {
     "name": "stdout",
     "output_type": "stream",
     "text": [
      "Branch 'documentation' set up to track remote branch 'documentation' from 'origin'.\n",
      "\n",
      "Observation: \u001b[36;1m\u001b[1;3mCommitted to Github on branch 'documentation'\u001b[0m\n",
      "Thought:\u001b[32;1m\u001b[1;3mAction:\n",
      "```\n",
      "{\n",
      "  \"action\": \"Final Answer\",\n",
      "  \"action_input\": \"# Project Documentation\\n\\n## Overview\\nThis project is designed to demonstrate basic functionality and serve as a starting point for further development.\\n\\n## Installation\\n1. Clone the repository.\\n2. Navigate to the project directory.\\n3. Run `npm install` to install dependencies.\\n\\n## Usage\\n- Run `npm start` to start the application.\\n- Access the application at `http://localhost:3000`.\\n\\n## Contributing\\n1. Fork the repository.\\n2. Create a new branch for your feature (`git checkout -b feature-name`).\\n3. Commit your changes (`git commit -m 'Add new feature'`).\\n4. Push to the branch (`git push origin feature-name`).\\n5. Open a pull request.\\n\\n## License\\nThis project is licensed under the MIT License.\\n\\n## Contact\\nFor any questions, please contact [email@example.com].\"\n",
      "}\n",
      "```\u001b[0m\n",
      "\n",
      "\u001b[1m> Finished chain.\u001b[0m\n"
     ]
    },
    {
     "data": {
      "text/plain": [
       "{'input': 'Write a basic code documentation in markdown format with the file name as documentation.md. Output ONLY THE MARKDOWN without wrapping it in ```. Commit changes to branch called documentation with an appropriate commit message.',\n",
       " 'output': \"# Project Documentation\\n\\n## Overview\\nThis project is designed to demonstrate basic functionality and serve as a starting point for further development.\\n\\n## Installation\\n1. Clone the repository.\\n2. Navigate to the project directory.\\n3. Run `npm install` to install dependencies.\\n\\n## Usage\\n- Run `npm start` to start the application.\\n- Access the application at `http://localhost:3000`.\\n\\n## Contributing\\n1. Fork the repository.\\n2. Create a new branch for your feature (`git checkout -b feature-name`).\\n3. Commit your changes (`git commit -m 'Add new feature'`).\\n4. Push to the branch (`git push origin feature-name`).\\n5. Open a pull request.\\n\\n## License\\nThis project is licensed under the MIT License.\\n\\n## Contact\\nFor any questions, please contact [email@example.com].\"}"
      ]
     },
     "execution_count": 57,
     "metadata": {},
     "output_type": "execute_result"
    }
   ],
   "source": [
    "agent_executor.invoke(\n",
    "    {\n",
    "        \"input\": \"Write a basic code documentation in markdown format with the file name as documentation.md. Output ONLY THE MARKDOWN without wrapping it in ```. Commit changes to branch called documentation with an appropriate commit message.\"\n",
    "    }\n",
    ")"
   ]
  },
  {
   "cell_type": "code",
   "execution_count": null,
   "metadata": {},
   "outputs": [],
   "source": []
  }
 ],
 "metadata": {
  "kernelspec": {
   "display_name": "Python 3",
   "language": "python",
   "name": "python3"
  },
  "language_info": {
   "codemirror_mode": {
    "name": "ipython",
    "version": 3
   },
   "file_extension": ".py",
   "mimetype": "text/x-python",
   "name": "python",
   "nbconvert_exporter": "python",
   "pygments_lexer": "ipython3",
   "version": "3.10.12"
  }
 },
 "nbformat": 4,
 "nbformat_minor": 2
}
