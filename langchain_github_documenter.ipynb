{
 "cells": [
  {
   "cell_type": "code",
   "execution_count": null,
   "metadata": {},
   "outputs": [],
   "source": [
    "%pip install -U langchain-openai"
   ]
  },
  {
   "cell_type": "markdown",
   "metadata": {},
   "source": [
    "## Setting up LLM"
   ]
  },
  {
   "cell_type": "code",
   "execution_count": 44,
   "metadata": {},
   "outputs": [],
   "source": [
    "from langchain_openai import ChatOpenAI\n",
    "from dotenv import load_dotenv\n",
    "import os\n",
    "\n",
    "# Load environment variables from .env file\n",
    "load_dotenv()\n",
    "\n",
    "# Create a GPT-4o model\n",
    "llm = ChatOpenAI(model='gpt-4o',temperature=0,api_key=os.getenv(\"OPENAI_API_KEY\"))"
   ]
  },
  {
   "cell_type": "markdown",
   "metadata": {},
   "source": [
    "## Tools for LLM"
   ]
  },
  {
   "cell_type": "code",
   "execution_count": 54,
   "metadata": {},
   "outputs": [],
   "source": [
    "import subprocess\n",
    "from datetime import datetime\n",
    "from langchain.tools import tool\n",
    "from langchain.tools import StructuredTool\n",
    "\n",
    "@tool\n",
    "def github_documentation_commit(commit_message=\"\"):\n",
    "    \"\"\" Commits the current changes to the 'documentation' branch of the Github repository \"\"\"\n",
    "    branch_name = \"documentation\"\n",
    "    commit_message_main = f\"{commit_message} - {datetime.now().strftime('%d-%m-%y %H:%M:%S')}\"\n",
    "    \n",
    "    # Switchs to the \"documentation\" branch (or Creates it if it doesn't exist)\n",
    "    subprocess.run([\"git\", \"checkout\", \"-B\", branch_name])\n",
    "    \n",
    "    # Add all changes\n",
    "    subprocess.run([\"git\", \"add\", \".\"])\n",
    "    \n",
    "    # Commit with the message\n",
    "    subprocess.run([\"git\", \"commit\", \"-m\", commit_message_main])\n",
    "    \n",
    "    # Push to the remote repository\n",
    "    subprocess.run([\"git\", \"push\", \"-u\", \"origin\", branch_name])\n",
    "    \n",
    "    return \"Committed to Github on branch 'documentation'\"\n",
    "\n",
    "def create_file_tool(file_contents: str, file_path: str) -> str:\n",
    "    \"\"\"\n",
    "    Function that creates/updates a markdown file with the contents provided as input \n",
    "    and file path provided as inputs\n",
    "    \"\"\"\n",
    "    \n",
    "    # Remove any Markdown formatting if present\n",
    "    if file_contents.startswith(\"```\") and file_contents.endswith(\"```\"):\n",
    "        file_contents = file_contents.strip(\"```\").strip()\n",
    "    \n",
    "    with open(file_path, \"w\") as f:\n",
    "        f.write(file_contents)\n",
    "    \n",
    "    return \"File updated\"\n",
    "\n",
    "create_file_tool = StructuredTool.from_function(create_file_tool)\n",
    "tools = [github_documentation_commit, create_file_tool]"
   ]
  },
  {
   "cell_type": "markdown",
   "metadata": {},
   "source": [
    "## Simple Agent to use the tools"
   ]
  },
  {
   "cell_type": "code",
   "execution_count": 55,
   "metadata": {},
   "outputs": [],
   "source": [
    "from langchain.agents import initialize_agent\n",
    "from langchain.agents import AgentType\n",
    "\n",
    "agent_executor = initialize_agent(\n",
    "    tools, llm, agent=AgentType.STRUCTURED_CHAT_ZERO_SHOT_REACT_DESCRIPTION, verbose=True\n",
    ")"
   ]
  },
  {
   "cell_type": "code",
   "execution_count": null,
   "metadata": {},
   "outputs": [
    {
     "name": "stdout",
     "output_type": "stream",
     "text": [
      "\n",
      "\n",
      "\u001b[1m> Entering new AgentExecutor chain...\u001b[0m\n"
     ]
    }
   ],
   "source": [
    "agent_executor.invoke(\n",
    "    {\n",
    "        \"input\": \"Write a basic code documentation in markdown format with the file name as documentation.md. Output ONLY THE MARKDOWN without wrapping it in ```. Commit changes to branch called documentation with an appropriate commit message.\"\n",
    "    }\n",
    ")"
   ]
  },
  {
   "cell_type": "code",
   "execution_count": null,
   "metadata": {},
   "outputs": [],
   "source": []
  }
 ],
 "metadata": {
  "kernelspec": {
   "display_name": "Python 3",
   "language": "python",
   "name": "python3"
  },
  "language_info": {
   "codemirror_mode": {
    "name": "ipython",
    "version": 3
   },
   "file_extension": ".py",
   "mimetype": "text/x-python",
   "name": "python",
   "nbconvert_exporter": "python",
   "pygments_lexer": "ipython3",
   "version": "3.10.12"
  }
 },
 "nbformat": 4,
 "nbformat_minor": 2
}
